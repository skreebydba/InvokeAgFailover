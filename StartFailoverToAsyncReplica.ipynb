{
    "metadata": {
        "kernelspec": {
            "name": "powershell",
            "display_name": "PowerShell"
        },
        "language_info": {
            "name": "powershell",
            "codemirror_mode": "shell",
            "mimetype": "text/x-sh",
            "file_extension": ".ps1"
        }
    },
    "nbformat_minor": 2,
    "nbformat": 4,
    "cells": [
        {
            "cell_type": "markdown",
            "source": [
                "# PowerShell function to force failover to an asynchronous Availability Group replica with no data loss\r\n",
                "### The following PowerShell function will switch an asynchronous replica to synchronous.  Once the replica is synchronized, the Availability Group will failover to that secondary replica."
            ],
            "metadata": {
                "azdata_cell_guid": "a30fb44e-582d-4e8d-89db-852cd53cac6b"
            }
        },
        {
            "cell_type": "code",
            "source": [
                "<#\r\n",
                ".SYNOPSIS\r\n",
                "  Name: StartFailoverToAsyncReplica.ps1\r\n",
                "  The purpose of this script is to fail over to an asynchronous replica.\r\n",
                "  \r\n",
                ".DESCRIPTION\r\n",
                "  The purpose of this script is to fail over to an asynchronous replica.  The script switches the async replica to sync.  Once the secondary is in a synchronized state,\r\n",
                "  the Availability Group is failed over.\r\n",
                ".PARAMETER primary\r\n",
                "  The current primary replica for the Availability Group.\r\n",
                "\r\n",
                ".PARAMETER asyncsecondary\r\n",
                "  The async secondary replica you want to fail over to.\r\n",
                "\r\n",
                ".PARAMETER agname\r\n",
                "  The Availability Group being failed over.\r\n",
                "      \r\n",
                ".NOTES\r\n",
                "    Updated: 2019-12-03       Initial build.\r\n",
                "    Release Date: TBD\r\n",
                "   \r\n",
                "  Author: Frank Gill, Concurrency, Inc.\r\n",
                "\r\n",
                ".EXAMPLE\r\n",
                "  Failover to async replica with no data loss.\r\n",
                "  Start-FailoverToAsyncReplica -primary replica1 -secondary replica2 -agname yourag\r\n",
                "\r\n",
                "#>\r\n",
                "Function Start-FailoverToAsyncReplica{\r\n",
                "    [CmdletBinding()]\r\n",
                "  \r\n",
                "      PARAM ( \r\n",
                "          [Parameter(Mandatory=$true)]\r\n",
                "          [string]\r\n",
                "          $primary,\r\n",
                "          [Parameter(Mandatory=$true)]\r\n",
                "          [string]\r\n",
                "          $asyncsecondary,\r\n",
                "          [Parameter(Mandatory=$true)]\r\n",
                "          [string]\r\n",
                "          $agname\r\n",
                "      )\r\n",
                "    \r\n",
                "    Begin{\r\n",
                "      Write-Host \"Start Start-FailoverToAsyncReplica function...\"\r\n",
                "    }\r\n",
                "    \r\n",
                "    Process{\r\n",
                "      Try{\r\n",
                "          \r\n",
                "          <# Get a list of replicas for the Availability Group to use to resume movement after failover #>\r\n",
                "          [System.Collections.ArrayList]$replicas = (Get-DbaAvailabilityGroup -SqlInstance $primary).AvailabilityReplicas.Name;\r\n",
                "          <# Remove the new primary from the replica list #>\r\n",
                "          $replicas.Remove($asyncsecondary);\r\n",
                "  \r\n",
                "          <# Get the synchronization state of the async secondary for use in the while loop below #>\r\n",
                "          $syncstate = Get-DbaAgReplica -SqlInstance $asyncsecondary -AvailabilityGroup $agname | Where-Object -Property Name -EQ $asyncsecondary | Select-Object -ExpandProperty RollupSynchronizationState;\r\n",
                "  \r\n",
                "          <# Set the synchronization state for the async secondary to Synchronous #>\r\n",
                "          Set-DbaAgReplica -SqlInstance $primary -AvailabilityGroup $agname -Replica $asyncsecondary -AvailabilityMode SynchronousCommit;\r\n",
                "  \r\n",
                "          <# Check the $syncstate variable until it flips to Synchronizing, indicating the failover can occur without data loss #>\r\n",
                "          while($syncstate -eq \"Synchronizing\")\r\n",
                "          {\r\n",
                "              $syncstate = Get-DbaAgReplica -SqlInstance $asyncsecondary -AvailabilityGroup $agname | Where-Object -Property Name -EQ $asyncsecondary | Select-Object -ExpandProperty RollupSynchronizationState;\r\n",
                "              Write-Host $syncstate -ForegroundColor Yellow;\r\n",
                "          }\r\n",
                "  \r\n",
                "          <# Fail the Availability Group over to the formerly asynchronous secondary #>\r\n",
                "          Invoke-DbaAgFailover -SqlInstance $asyncsecondary -AvailabilityGroup $agname -Force;\r\n",
                "  \r\n",
                "          <# Resume data movement for the new secondary replicas, in case it is suspended #>\r\n",
                "          Get-DbaAgDatabase -SqlInstance $replicas | Resume-DbaAgDbDataMovement -Confirm:$false        \r\n",
                "      }\r\n",
                "      \r\n",
                "      Catch{\r\n",
                "        \"Something went wrong.: $($PSItem.ToString())\"\r\n",
                "        Break\r\n",
                "      }\r\n",
                "  \r\n",
                "    }\r\n",
                "    \r\n",
                "    End{\r\n",
                "      If($?){ # only execute if the function was successful.\r\n",
                "        Write-Host \"Completed Start-FailoverToAsyncReplica function.\" -ForegroundColor Yellow;\r\n",
                "      }\r\n",
                "    }\r\n",
                "  }"
            ],
            "metadata": {
                "azdata_cell_guid": "674b4e74-ead7-4afe-9f47-7646cdd2cec9"
            },
            "outputs": [],
            "execution_count": 0
        },
        {
            "cell_type": "markdown",
            "source": [
                "# Execute the function\r\n",
                "### Once the function is created, execute it using the command below.  Because the failover is being run with the -Force parameter, data movement will be suspended on the seconday replicas.  Set -resume to Y to resume data movement for all secondary databases."
            ],
            "metadata": {
                "azdata_cell_guid": "819b57be-eca7-4680-b48f-77218579b9e5"
            }
        },
        {
            "cell_type": "code",
            "source": [
                "Start-FailoverToAsyncReplica -primary FBGSQL2019VM1 -asyncsecondary FBGSQL2019VM3 -agname FBGSQL2019AG -resume Y;"
            ],
            "metadata": {
                "azdata_cell_guid": "a0c066d4-cccd-47d3-8b64-1e4178bafced"
            },
            "outputs": [],
            "execution_count": 0
        },
        {
            "cell_type": "markdown",
            "source": [
                "# **Note: If the AG replica entered as primary is not a primary replica, you will see the following error:**"
            ],
            "metadata": {
                "azdata_cell_guid": "3a064d80-3198-4730-a53d-98bc1fca5a78"
            }
        },
        {
            "cell_type": "code",
            "source": [
                "WARNING: [22:59:33][Set-DbaAgReplica] Failure | Availability group 'yourreplica' cannot process the ALTER AVAILABILITY GROUP command, because the local availability replica is not t\r\n",
                "he primary replica.  Connect to the server instance that is currently hosting the primary replica of this availability group, and rerun the command.\r\n",
                "WARNING: [22:59:33][Invoke-DbaAgFailover] Failure | Cannot failover availability group 'yourreplica' to this instance of SQL Server.  The local availability replica is already the p\r\n",
                "rimary replica of the availability group.  To failover this availability group to another instance of SQL Server, run the failover command on that instance of SQL Server.  If local i\r\n",
                "nstance of SQL Server is intended to host the primary replica of the availability group, then no action is required."
            ],
            "metadata": {
                "azdata_cell_guid": "da061817-4676-43ec-a5e4-d365ae562be0"
            },
            "outputs": [],
            "execution_count": 0
        },
        {
            "cell_type": "markdown",
            "source": [
                "# **If you see this message, confirm your primary replica and execute the function again.**"
            ],
            "metadata": {
                "azdata_cell_guid": "42ee2f5c-698c-4b0f-9bd9-bffce078daa6"
            }
        }
    ]
}